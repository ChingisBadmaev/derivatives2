{
 "cells": [
  {
   "cell_type": "code",
   "execution_count": 2,
   "metadata": {},
   "outputs": [],
   "source": [
    "import numpy as np\n",
    "import pandas as pd\n",
    "import matplotlib.pyplot as plt\n",
    "from tqdm import tqdm\n",
    "import math\n",
    "from scipy.linalg import pascal\n",
    "from scipy.stats import norm\n",
    "import warnings\n",
    "import scipy\n",
    "warnings.filterwarnings(\"ignore\")"
   ]
  },
  {
   "cell_type": "code",
   "execution_count": 3,
   "metadata": {},
   "outputs": [],
   "source": [
    "S_0, K, B = 100, 80, 160\n",
    "r, sigma = 0.2, 0.3\n",
    "T, periods = 1, 50\n",
    "t_grid = np.linspace(0, T, periods)"
   ]
  },
  {
   "cell_type": "code",
   "execution_count": 4,
   "metadata": {},
   "outputs": [],
   "source": [
    "def BSM(s, r, sigma, t1, t2, strike):\n",
    "    dt = t2 - t1\n",
    "    return r * s * dt + sigma * s * np.random.normal(0, np.sqrt(dt))"
   ]
  },
  {
   "cell_type": "code",
   "execution_count": 5,
   "metadata": {},
   "outputs": [
    {
     "name": "stdout",
     "output_type": "stream",
     "text": [
      "0.029590551774650833\n",
      "U_shape: 70000\n"
     ]
    }
   ],
   "source": [
    "T, N = 1, 7 * 10 ** 2\n",
    "S_0, B, K, M = 100, 300, 200, 10 ** 2\n",
    "r, sigma= 0.1, 0.05\n",
    "T_wave = (sigma ** 2) * T / 2\n",
    "D = (2 * r) / (sigma ** 2)\n",
    "X_1 = np.log(S_0 / K)\n",
    "X_2 = np.log(B / K)\n",
    "X_arr = np.linspace(X_1, X_2, M)\n",
    "tau = T_wave / N\n",
    "h = abs(X_1 - X_2) / M\n",
    "print(tau / ((h ** 2) / 2))\n",
    "U_shape = (N, M)\n",
    "print('U_shape:', N * M)\n",
    "U = np.zeros(U_shape)"
   ]
  },
  {
   "cell_type": "code",
   "execution_count": 6,
   "metadata": {},
   "outputs": [],
   "source": [
    "D = (2 * r) / (sigma ** 2)\n",
    "\n",
    "for m in range(len(X_arr)):\n",
    "    if 1 - np.exp(-X_arr[m]) > 0:\n",
    "        U[0][m] = 1 - np.exp(-X_arr[m])\n",
    "    else:\n",
    "        U[0][m] = 0\n",
    "\n",
    "for n in range(N):\n",
    "    U[n, -1] = 1 - np.exp(-D * tau * n - X_arr[-1])"
   ]
  },
  {
   "cell_type": "code",
   "execution_count": 7,
   "metadata": {},
   "outputs": [],
   "source": [
    "def find_u(u_left, u_mid, u_right, tau, h, D):\n",
    "    # нахождение значения в узле\n",
    "    ans = u_mid + (tau / (h ** 2)) * (u_left - 2 * u_mid + u_right) + ((tau / h) * (1 + D)) * (u_right - u_mid)\n",
    "    if ans > 0:\n",
    "        return ans\n",
    "    return 0"
   ]
  },
  {
   "cell_type": "code",
   "execution_count": 8,
   "metadata": {},
   "outputs": [
    {
     "name": "stderr",
     "output_type": "stream",
     "text": [
      "100%|██████████| 699/699 [00:00<00:00, 4053.16it/s]\n"
     ]
    }
   ],
   "source": [
    "# поиск значений на сетке\n",
    "for n in tqdm(range(N - 1)):\n",
    "    for m in range(1, M - 1):\n",
    "        U[n + 1, m] = find_u(U[n, m - 1], U[n, m], U[n, m + 1], tau, h, D)\n",
    "V = U * np.linspace(S_0, B, M)\n",
    "V_numerical = pd.DataFrame(V)\n",
    "ans_numerical = V_numerical.sum(axis=0) / V_numerical.shape[0]\n"
   ]
  },
  {
   "cell_type": "code",
   "execution_count": 9,
   "metadata": {},
   "outputs": [],
   "source": [
    "def delta_plus(s, r, sigma, T, t):\n",
    "    '''\n",
    "    for barrier call options\n",
    "    '''\n",
    "    tau = T - t \n",
    "    return (1 / (sigma * np.sqrt(tau))) * (np.log(s) + (r + pow(sigma, 2) / 2) * tau)"
   ]
  },
  {
   "cell_type": "code",
   "execution_count": 10,
   "metadata": {},
   "outputs": [],
   "source": [
    "def delta_minus(s, r, sigma, T, t):\n",
    "    '''\n",
    "    for barrier call options\n",
    "    '''\n",
    "    tau = T - t \n",
    "    return (1 / (sigma * np.sqrt(tau))) * (np.log(s) + (r - pow(sigma, 2) / 2) * tau)"
   ]
  },
  {
   "cell_type": "code",
   "execution_count": 11,
   "metadata": {},
   "outputs": [],
   "source": [
    "def barrier_options_exact(s, r, sigma, T, t, K, B):\n",
    "    '''\n",
    "    0 <= t <= T\n",
    "    s = s(t)\n",
    "    0 < s <= B / s\n",
    "    '''\n",
    "    tau = T - t\n",
    "    first_part = s * (norm.cdf(delta_plus(s / K, r, sigma, T, t)) - norm.cdf(delta_plus(s / B, r, sigma, T, t)))\n",
    "    second_part = np.exp(-tau * r) * K * (norm.cdf(delta_minus(s / K, r, sigma, T, t)) - norm.cdf(delta_minus(s / B, r, sigma, T, t)))\n",
    "    third_part = -B * ((s / B) ** (-2 * r / pow(sigma, 2))) * (norm.cdf(delta_plus(pow(B, 2) / (K * s), r, sigma, T, t)) - norm.cdf(delta_plus(B / s, r, sigma, T, t)))\n",
    "    fourth_part = np.exp(-r * tau) * K * ((s / B) ** (-2 * r / pow(sigma, 2) + 1)) * (norm.cdf(delta_minus(pow(B, 2) / (K * s), r, sigma, T, t)) - norm.cdf(delta_minus(pow(B, 2) / s, r, sigma, T, t)))\n",
    "    price = first_part - second_part - third_part + fourth_part\n",
    "    if price <= 0:\n",
    "        return 0\n",
    "    return price"
   ]
  },
  {
   "cell_type": "code",
   "execution_count": 12,
   "metadata": {},
   "outputs": [],
   "source": [
    "B_arr = K * np.exp(X_arr)\n",
    "t_arr = T - (2 / (sigma ** 2)) * np.linspace(0, T_wave, N)"
   ]
  },
  {
   "cell_type": "code",
   "execution_count": 13,
   "metadata": {},
   "outputs": [
    {
     "name": "stderr",
     "output_type": "stream",
     "text": [
      "100%|██████████| 700/700 [01:02<00:00, 11.23it/s]\n"
     ]
    }
   ],
   "source": [
    "exact = np.zeros((U_shape))\n",
    "for i in tqdm(range(len(t_arr))):\n",
    "    for j in range(len(B_arr)):\n",
    "        exact[i][j] = barrier_options_exact(B_arr[j], sigma, T, t_arr[i], r, K, B)"
   ]
  },
  {
   "cell_type": "code",
   "execution_count": null,
   "metadata": {},
   "outputs": [],
   "source": []
  }
 ],
 "metadata": {
  "kernelspec": {
   "display_name": "env",
   "language": "python",
   "name": "python3"
  },
  "language_info": {
   "codemirror_mode": {
    "name": "ipython",
    "version": 3
   },
   "file_extension": ".py",
   "mimetype": "text/x-python",
   "name": "python",
   "nbconvert_exporter": "python",
   "pygments_lexer": "ipython3",
   "version": "3.10.10"
  },
  "orig_nbformat": 4
 },
 "nbformat": 4,
 "nbformat_minor": 2
}
